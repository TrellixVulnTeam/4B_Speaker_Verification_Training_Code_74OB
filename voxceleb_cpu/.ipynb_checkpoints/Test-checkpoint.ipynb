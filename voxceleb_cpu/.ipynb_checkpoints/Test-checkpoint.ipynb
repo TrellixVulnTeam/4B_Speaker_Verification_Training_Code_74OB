{
 "cells": [
  {
   "cell_type": "code",
   "execution_count": 1,
   "id": "8520585c",
   "metadata": {},
   "outputs": [
    {
     "name": "stdout",
     "output_type": "stream",
     "text": [
      "\u001b]0;ec2-user@ip-172-16-106-227:~/SageMaker/voxceleb_trainer\u0007(base) [ec2-user@ip-172-16-106-227 voxceleb_trainer]$ ^C\n",
      "\u001b]0;ec2-user@ip-172-16-106-227:~/SageMaker/voxceleb_trainer\u0007(base) [ec2-user@ip-172-16-106-227 voxceleb_trainer]$ Collecting soundfile\n",
      "  Downloading SoundFile-0.10.3.post1-py2.py3-none-any.whl (21 kB)\n",
      "Requirement already satisfied: cffi>=1.0 in /home/ec2-user/anaconda3/envs/pytorch_latest_p36/lib/python3.6/site-packages (from soundfile) (1.14.5)\n",
      "Requirement already satisfied: pycparser in /home/ec2-user/anaconda3/envs/pytorch_latest_p36/lib/python3.6/site-packages (from cffi>=1.0->soundfile) (2.20)\n",
      "Installing collected packages: soundfile\n",
      "Successfully installed soundfile-0.10.3.post1\n",
      "/home/ec2-user/anaconda3/envs/pytorch_latest_p36/bin/python: No module named conda\n",
      "Collecting torchaudio\n",
      "  Downloading torchaudio-0.8.1-cp36-cp36m-manylinux1_x86_64.whl (1.9 MB)\n",
      "\u001b[K     |████████████████████████████████| 1.9 MB 24.3 MB/s eta 0:00:01\n",
      "\u001b[?25hCollecting torch==1.8.1\n",
      "  Downloading torch-1.8.1-cp36-cp36m-manylinux1_x86_64.whl (804.1 MB)\n",
      "\u001b[K     |████████████████████████████████| 804.1 MB 2.4 kB/s  eta 0:00:01    |█                               | 24.6 MB 47.4 MB/s eta 0:00:17MB 46.3 MB/s eta 0:00:13     |█████████▏                      | 229.2 MB 29.7 MB/s eta 0:00:20     |███████████▋                    | 292.8 MB 52.6 MB/s eta 0:00:10     |██████████████████              | 452.4 MB 293 kB/s eta 0:19:59     |██████████████████▏             | 455.8 MB 293 kB/s eta 0:19:47     |██████████████████▋             | 467.1 MB 293 kB/s eta 0:19:08     |█████████████████████▎          | 535.1 MB 52.4 MB/s eta 0:00:06███████████████████████       | 626.5 MB 50.1 MB/s eta 0:00:04     |██████████████████████████████▌ | 767.4 MB 27.2 MB/s eta 0:00:02     |███████████████████████████████ | 781.3 MB 27.2 MB/s eta 0:00:01\n",
      "^C\n",
      "\u001b[31mERROR: Operation cancelled by user\u001b[0m\n"
     ]
    }
   ],
   "source": [
    "import sys\n",
    "# !bash\n",
    "# !conda activate pytorch_latest_p36\n",
    "!{sys.executable} -m pip install soundfile\n",
    "!{sys.executable} -m conda install -c conda-forge librosa\n",
    "!{sys.executable} -m pip install torchaudio"
   ]
  },
  {
   "cell_type": "code",
   "execution_count": null,
   "id": "7ddb9f8d",
   "metadata": {},
   "outputs": [],
   "source": [
    "print('Hello Worl')"
   ]
  },
  {
   "cell_type": "code",
   "execution_count": 6,
   "id": "f406bf9a",
   "metadata": {},
   "outputs": [
    {
     "name": "stdout",
     "output_type": "stream",
     "text": [
      "/home/ec2-user/anaconda3/envs/pytorch_latest_p36/bin/python: No module named conda\n"
     ]
    }
   ],
   "source": []
  },
  {
   "cell_type": "code",
   "execution_count": null,
   "id": "460831a0",
   "metadata": {},
   "outputs": [],
   "source": []
  }
 ],
 "metadata": {
  "kernelspec": {
   "display_name": "conda_pytorch_latest_p36",
   "language": "python",
   "name": "conda_pytorch_latest_p36"
  },
  "language_info": {
   "codemirror_mode": {
    "name": "ipython",
    "version": 3
   },
   "file_extension": ".py",
   "mimetype": "text/x-python",
   "name": "python",
   "nbconvert_exporter": "python",
   "pygments_lexer": "ipython3",
   "version": "3.6.13"
  }
 },
 "nbformat": 4,
 "nbformat_minor": 5
}
