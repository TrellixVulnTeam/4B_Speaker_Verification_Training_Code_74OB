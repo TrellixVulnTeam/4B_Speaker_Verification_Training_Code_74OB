{
 "cells": [
  {
   "cell_type": "code",
   "execution_count": 1,
   "id": "6b2e38fd",
   "metadata": {},
   "outputs": [
    {
     "data": {
      "text/plain": [
       "'/home/ec2-user/SageMaker/voxceleb_trainer'"
      ]
     },
     "execution_count": 1,
     "metadata": {},
     "output_type": "execute_result"
    }
   ],
   "source": [
    "pwd"
   ]
  },
  {
   "cell_type": "code",
   "execution_count": null,
   "id": "bad4f44f",
   "metadata": {},
   "outputs": [
    {
     "name": "stdout",
     "output_type": "stream",
     "text": [
      "Collecting package metadata (current_repodata.json): done\n",
      "Solving environment: \\ \n",
      "The environment is inconsistent, please check the package plan carefully\n",
      "The following packages are causing the inconsistency:\n",
      "\n",
      "  - conda-forge/noarch::seaborn-base==0.11.1=pyhd8ed1ab_1\n",
      "  - conda-forge/noarch::nbclassic==0.2.6=pyhd8ed1ab_0\n",
      "  - defaults/linux-64::numpy==1.19.2=py36h54aff64_0\n",
      "  - conda-forge/linux-64::numexpr==2.7.2=py36h284efc9_0\n",
      "  - conda-forge/linux-64::statsmodels==0.12.2=py36h92226af_0\n",
      "  - conda-forge/linux-64::matplotlib==3.3.4=py36h5fab9bb_0\n",
      "  - conda-forge/linux-64::h5py==3.1.0=nompi_py36hc1bc4f5_100\n",
      "  - conda-forge/linux-64::scipy==1.5.3=py36h9e8f40b_0\n",
      "  - conda-forge/noarch::jupyterlab==3.0.9=pyhd8ed1ab_0\n",
      "  - conda-forge/noarch::python-language-server==0.36.2=pyhd8ed1ab_0\n",
      "  - conda-forge/noarch::jupyterlab_server==2.3.0=pyhd8ed1ab_0\n",
      "  - conda-forge/linux-64::pytables==3.6.1=py36hb7ec5aa_3\n",
      "  - conda-forge/linux-64::pandas==1.1.5=py36h284efc9_0\n",
      "  - conda-forge/linux-64::astropy==4.1=py36ha112f06_2\n",
      "  - conda-forge/noarch::pyls-black==0.4.6=pyh9f0ad1d_0\n",
      "  - conda-forge/linux-64::scikit-image==0.16.2=py36hb3f55d8_0\n",
      "  - conda-forge/linux-64::numba==0.52.0=py36h284efc9_0\n",
      "  - pytorch/linux-64::pytorch==1.7.1=py3.6_cuda10.1.243_cudnn7.6.3_0\n",
      "  - conda-forge/noarch::black==20.8b1=py_1\n",
      "  - conda-forge/linux-64::pyqt==5.9.2=py36hcca6a23_4\n",
      "  - defaults/linux-64::numpy-base==1.19.2=py36hfa32c7d_0\n",
      "  - conda-forge/linux-64::cairo==1.16.0=h18b612c_1001\n",
      "  - conda-forge/linux-64::anyio==2.1.0=py36h5fab9bb_0\n",
      "  - conda-forge/linux-64::harfbuzz==2.4.0=h37c48d4_1\n",
      "  - conda-forge/linux-64::jupyter_server==1.4.1=py36h5fab9bb_0\n",
      "  - conda-forge/noarch::pytest-astropy==0.8.0=pyhd8ed1ab_0\n",
      "  - conda-forge/noarch::qtconsole==5.0.2=pyhd8ed1ab_0\n",
      "  - conda-forge/linux-64::bokeh==2.2.3=py36h5fab9bb_0\n",
      "  - conda-forge/noarch::hypothesis==6.3.2=pyhd8ed1ab_0\n",
      "  - conda-forge/noarch::aiobotocore==1.2.1=pyhd8ed1ab_0\n",
      "  - conda-forge/noarch::numpydoc==1.1.0=py_1\n",
      "  - pytorch/linux-64::torchvision==0.8.2=py36_cu101\n",
      "  - conda-forge/linux-64::spyder==4.2.0=py36h5fab9bb_0\n",
      "  - defaults/linux-64::_anaconda_depends==2019.03=py36_0\n",
      "  - conda-forge/noarch::pyls-spyder==0.3.2=pyhd8ed1ab_0\n",
      "  - conda-forge/linux-64::libxslt==1.1.32=hae48121_1003\n",
      "  - conda-forge/noarch::imageio==2.9.0=py_0\n",
      "  - conda-forge/linux-64::pango==1.42.4=h7062337_4\n",
      "  - conda-forge/noarch::patsy==0.5.1=py_0\n",
      "  - conda-forge/linux-64::yarl==1.6.3=py36h8f6f2f9_1\n",
      "  - conda-forge/noarch::sphinx==3.5.1=pyhd8ed1ab_0\n",
      "  - conda-forge/linux-64::fontconfig==2.13.1=he4413a7_1000\n",
      "  - conda-forge/linux-64::libxml2==2.9.9=h13577e0_2\n",
      "  - conda-forge/noarch::seaborn==0.11.1=hd8ed1ab_1\n",
      "  - conda-forge/linux-64::mkl_random==1.2.0=py36h7c3b610_1\n",
      "  - conda-forge/linux-64::scikit-learn==0.24.1=py36he4fde30_0\n",
      "  - conda-forge/linux-64::bkcharts==0.2=py36_0\n",
      "  - conda-forge/linux-64::jupyter==1.0.0=py36h5fab9bb_6\n",
      "  - conda-forge/noarch::pytest-arraydiff==0.3=py_0\n",
      "  - conda-forge/noarch::dask==2021.2.0=pyhd8ed1ab_0\n",
      "  - conda-forge/linux-64::idna_ssl==1.1.0=py36h9f0ad1d_1001\n",
      "  - conda-forge/linux-64::matplotlib-base==3.3.4=py36hd391965_0\n",
      "  - defaults/linux-64::mkl_fft==1.2.1=py36h54f3939_0\n",
      "  - defaults/linux-64::qt==5.9.7=h5867ecd_1\n",
      "  - conda-forge/noarch::anaconda-client==1.7.2=py_0\n",
      "  - conda-forge/linux-64::pywavelets==1.1.1=py36h92226af_3\n",
      "  - conda-forge/linux-64::bottleneck==1.3.2=py36h92226af_3\n",
      "  - conda-forge/noarch::anaconda-project==0.9.1=pyhd8ed1ab_0\n",
      "failed with initial frozen solve. Retrying with flexible solve.\n",
      "Solving environment: failed with repodata from current_repodata.json, will retry with next repodata source.\n",
      "Collecting package metadata (repodata.json): done\n",
      "Solving environment: | \n",
      "The environment is inconsistent, please check the package plan carefully\n",
      "The following packages are causing the inconsistency:\n",
      "\n",
      "  - conda-forge/noarch::nbclassic==0.2.6=pyhd8ed1ab_0\n",
      "  - conda-forge/noarch::jupyterlab==3.0.9=pyhd8ed1ab_0\n",
      "  - conda-forge/noarch::python-language-server==0.36.2=pyhd8ed1ab_0\n",
      "  - conda-forge/noarch::jupyterlab_server==2.3.0=pyhd8ed1ab_0\n",
      "  - conda-forge/noarch::pyls-black==0.4.6=pyh9f0ad1d_0\n",
      "  - pytorch/linux-64::pytorch==1.7.1=py3.6_cuda10.1.243_cudnn7.6.3_0\n",
      "  - conda-forge/noarch::black==20.8b1=py_1\n",
      "  - conda-forge/linux-64::anyio==2.1.0=py36h5fab9bb_0\n",
      "  - conda-forge/linux-64::jupyter_server==1.4.1=py36h5fab9bb_0\n",
      "  - conda-forge/noarch::pytest-astropy==0.8.0=pyhd8ed1ab_0\n",
      "  - conda-forge/noarch::hypothesis==6.3.2=pyhd8ed1ab_0\n",
      "  - conda-forge/noarch::aiobotocore==1.2.1=pyhd8ed1ab_0\n",
      "  - conda-forge/noarch::numpydoc==1.1.0=py_1\n",
      "  - pytorch/linux-64::torchvision==0.8.2=py36_cu101\n",
      "  - conda-forge/linux-64::spyder==4.2.0=py36h5fab9bb_0\n",
      "  - defaults/linux-64::_anaconda_depends==2019.03=py36_0\n",
      "  - conda-forge/noarch::pyls-spyder==0.3.2=pyhd8ed1ab_0\n",
      "  - conda-forge/linux-64::yarl==1.6.3=py36h8f6f2f9_1\n",
      "  - conda-forge/noarch::sphinx==3.5.1=pyhd8ed1ab_0\n",
      "  - conda-forge/linux-64::jupyter==1.0.0=py36h5fab9bb_6\n",
      "  - conda-forge/linux-64::idna_ssl==1.1.0=py36h9f0ad1d_1001\n",
      "  - conda-forge/noarch::anaconda-client==1.7.2=py_0\n",
      "  - conda-forge/noarch::anaconda-project==0.9.1=pyhd8ed1ab_0\n",
      "/ "
     ]
    }
   ],
   "source": [
    "!pip install soundfile\n",
    "!conda install -c conda-forge librosa"
   ]
  },
  {
   "cell_type": "code",
   "execution_count": null,
   "id": "41fefa8f",
   "metadata": {},
   "outputs": [],
   "source": []
  },
  {
   "cell_type": "code",
   "execution_count": null,
   "id": "774c51f7",
   "metadata": {},
   "outputs": [],
   "source": []
  },
  {
   "cell_type": "code",
   "execution_count": 8,
   "id": "d1a3a40d",
   "metadata": {},
   "outputs": [
    {
     "name": "stdout",
     "output_type": "stream",
     "text": [
      "Traceback (most recent call last):\n",
      "  File \"./trainSpeakerNet.py\", line 14, in <module>\n",
      "    from SpeakerNet import *\n",
      "  File \"/home/ec2-user/SageMaker/voxceleb_trainer/SpeakerNet.py\", line 11, in <module>\n",
      "    from DatasetLoader import test_dataset_loader\n",
      "  File \"/home/ec2-user/SageMaker/voxceleb_trainer/DatasetLoader.py\", line 13, in <module>\n",
      "    import soundfile\n",
      "  File \"/home/ec2-user/anaconda3/envs/pytorch_latest_p36/lib/python3.6/site-packages/soundfile.py\", line 142, in <module>\n",
      "    raise OSError('sndfile library not found')\n",
      "OSError: sndfile library not found\n"
     ]
    }
   ],
   "source": [
    "!python ./trainSpeakerNet.py --eval --model ResNetSE34L --log_input True --trainfunc angleproto --save_path exps/test --eval_frames 400 --initial_model baseline_lite_ap.model"
   ]
  },
  {
   "cell_type": "code",
   "execution_count": null,
   "id": "55bc8b87",
   "metadata": {},
   "outputs": [],
   "source": []
  },
  {
   "cell_type": "code",
   "execution_count": null,
   "id": "fee0915d",
   "metadata": {},
   "outputs": [],
   "source": []
  }
 ],
 "metadata": {
  "kernelspec": {
   "display_name": "conda_pytorch_latest_p36",
   "language": "python",
   "name": "conda_pytorch_latest_p36"
  },
  "language_info": {
   "codemirror_mode": {
    "name": "ipython",
    "version": 3
   },
   "file_extension": ".py",
   "mimetype": "text/x-python",
   "name": "python",
   "nbconvert_exporter": "python",
   "pygments_lexer": "ipython3",
   "version": "3.6.13"
  }
 },
 "nbformat": 4,
 "nbformat_minor": 5
}
